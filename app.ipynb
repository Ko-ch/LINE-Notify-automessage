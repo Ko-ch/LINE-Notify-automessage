{
 "cells": [
  {
   "cell_type": "code",
   "execution_count": 5,
   "id": "8c831f6e",
   "metadata": {},
   "outputs": [],
   "source": [
    "import json"
   ]
  },
  {
   "cell_type": "code",
   "execution_count": 6,
   "id": "97b502bd",
   "metadata": {},
   "outputs": [],
   "source": [
    "with open('line.json') as f:\n",
    "    line_json = json.load(f)"
   ]
  },
  {
   "cell_type": "code",
   "execution_count": 7,
   "id": "e701a629",
   "metadata": {},
   "outputs": [],
   "source": [
    "LINE_NOTIFY_TOKEN = line_json['LINE_NOTIFY_TOKEN']"
   ]
  },
  {
   "cell_type": "code",
   "execution_count": 9,
   "id": "a5fc3797",
   "metadata": {},
   "outputs": [],
   "source": [
    "import requests"
   ]
  },
  {
   "cell_type": "code",
   "execution_count": 10,
   "id": "6082a69c",
   "metadata": {},
   "outputs": [],
   "source": [
    "url = 'https://notify-api.line.me/api/notify'"
   ]
  },
  {
   "cell_type": "code",
   "execution_count": 11,
   "id": "379bedbf",
   "metadata": {},
   "outputs": [],
   "source": [
    "message = 'Hello World!!'"
   ]
  },
  {
   "cell_type": "code",
   "execution_count": 13,
   "id": "38ad7699",
   "metadata": {},
   "outputs": [],
   "source": [
    "headers = {\n",
    "    'Authorization': f'Bearer {LINE_NOTIFY_TOKEN}'\n",
    "}\n",
    "\n",
    "data = {\n",
    "    'message': message\n",
    "}"
   ]
  },
  {
   "cell_type": "code",
   "execution_count": 19,
   "id": "98902954",
   "metadata": {},
   "outputs": [
    {
     "data": {
      "text/plain": [
       "<Response [200]>"
      ]
     },
     "execution_count": 19,
     "metadata": {},
     "output_type": "execute_result"
    }
   ],
   "source": [
    "requests.post(\n",
    "    url,\n",
    "    headers=headers,\n",
    "    data=data\n",
    ")"
   ]
  },
  {
   "cell_type": "markdown",
   "id": "93fbe312",
   "metadata": {},
   "source": [
    "### 関数化"
   ]
  },
  {
   "cell_type": "code",
   "execution_count": 20,
   "id": "34a7deb7",
   "metadata": {},
   "outputs": [],
   "source": [
    "def notify_message(message):\n",
    "    LINE_NOTIFY_TOKEN = line_json['LINE_NOTIFY_TOKEN']\n",
    "    url = 'https://notify-api.line.me/api/notify'\n",
    "    headers = {\n",
    "        'Authorization': f'Bearer {LINE_NOTIFY_TOKEN}'\n",
    "    }\n",
    "\n",
    "    data = {\n",
    "        'message': message\n",
    "    }\n",
    "\n",
    "    requests.post(\n",
    "        url,\n",
    "        headers=headers,\n",
    "        data=data\n",
    "    )"
   ]
  },
  {
   "cell_type": "code",
   "execution_count": 24,
   "id": "7cc888b1",
   "metadata": {},
   "outputs": [],
   "source": [
    "notify_message('fa;sjfsafjdsfjsjfljdfja')"
   ]
  },
  {
   "cell_type": "markdown",
   "id": "a7d42d64",
   "metadata": {},
   "source": [
    "### Twitter"
   ]
  },
  {
   "cell_type": "code",
   "execution_count": 27,
   "id": "b17197f9",
   "metadata": {},
   "outputs": [],
   "source": [
    "import json\n",
    "with open('twitter.json') as f:\n",
    "    twitter_keys = json.load(f)"
   ]
  },
  {
   "cell_type": "code",
   "execution_count": 28,
   "id": "7a266963",
   "metadata": {},
   "outputs": [],
   "source": [
    "consumer_key = twitter_keys['consumer_key']\n",
    "consumer_secret = twitter_keys['consumer_secret']\n",
    "access_token = twitter_keys['access_token']\n",
    "access_token_secret = twitter_keys['access_token_secret']"
   ]
  },
  {
   "cell_type": "code",
   "execution_count": 29,
   "id": "0d8aaaa1",
   "metadata": {},
   "outputs": [],
   "source": [
    "import tweepy"
   ]
  },
  {
   "cell_type": "code",
   "execution_count": 30,
   "id": "5b76c297",
   "metadata": {},
   "outputs": [],
   "source": [
    "auth = tweepy.OAuthHandler(consumer_key, consumer_secret)\n",
    "auth.set_access_token(access_token, access_token_secret)"
   ]
  },
  {
   "cell_type": "code",
   "execution_count": 31,
   "id": "a1f5ac1f",
   "metadata": {},
   "outputs": [],
   "source": [
    "api = tweepy.API(auth)"
   ]
  },
  {
   "cell_type": "code",
   "execution_count": 32,
   "id": "269c25b0",
   "metadata": {},
   "outputs": [],
   "source": [
    "me = api.me()"
   ]
  },
  {
   "cell_type": "code",
   "execution_count": 33,
   "id": "9f921e4d",
   "metadata": {},
   "outputs": [],
   "source": [
    "n_followers = me.followers_count"
   ]
  },
  {
   "cell_type": "code",
   "execution_count": 34,
   "id": "c3a56c68",
   "metadata": {},
   "outputs": [
    {
     "data": {
      "text/plain": [
       "0"
      ]
     },
     "execution_count": 34,
     "metadata": {},
     "output_type": "execute_result"
    }
   ],
   "source": [
    "n_followers"
   ]
  },
  {
   "cell_type": "code",
   "execution_count": 42,
   "id": "01159b38",
   "metadata": {},
   "outputs": [],
   "source": [
    "message = f'本日のフォロワー数は{n_followers}です。'\n",
    "notify_message(message)"
   ]
  },
  {
   "cell_type": "code",
   "execution_count": null,
   "id": "e36cebc7",
   "metadata": {},
   "outputs": [],
   "source": []
  },
  {
   "cell_type": "code",
   "execution_count": 43,
   "id": "062acade",
   "metadata": {},
   "outputs": [],
   "source": [
    "def get_n_followers():\n",
    "    consumer_key = twitter_keys['consumer_key']\n",
    "    consumer_secret = twitter_keys['consumer_secret']\n",
    "    access_token = twitter_keys['access_token']\n",
    "    access_token_secret = twitter_keys['access_token_secret']\n",
    "    \n",
    "    auth = tweepy.OAuthHandler(consumer_key, consumer_secret)\n",
    "    auth.set_access_token(access_token, access_token_secret)\n",
    "    \n",
    "    api = tweepy.API(auth)\n",
    "    me = api.me()\n",
    "    n_followers = me.followers_count\n",
    "    \n",
    "    return n_followers"
   ]
  },
  {
   "cell_type": "code",
   "execution_count": 50,
   "id": "a86f6944",
   "metadata": {},
   "outputs": [],
   "source": [
    "n_followers = get_n_followers()\n",
    "message = f'本日のフォロワー数は{n_followers}です。'\n",
    "notify_message(message)"
   ]
  },
  {
   "cell_type": "code",
   "execution_count": null,
   "id": "15796a81",
   "metadata": {},
   "outputs": [],
   "source": []
  }
 ],
 "metadata": {
  "kernelspec": {
   "display_name": "Python 3 (ipykernel)",
   "language": "python",
   "name": "python3"
  },
  "language_info": {
   "codemirror_mode": {
    "name": "ipython",
    "version": 3
   },
   "file_extension": ".py",
   "mimetype": "text/x-python",
   "name": "python",
   "nbconvert_exporter": "python",
   "pygments_lexer": "ipython3",
   "version": "3.7.4"
  }
 },
 "nbformat": 4,
 "nbformat_minor": 5
}
